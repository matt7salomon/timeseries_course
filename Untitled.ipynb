{
 "cells": [
  {
   "cell_type": "raw",
   "id": "56d3344b",
   "metadata": {},
   "source": [
    "Subbu Sanka to Everyone (Jun 27, 2023, 4:07 PM)\n",
    "City Data (Python, Pandas)\n",
    "County_ID, City_ID, Population\n",
    "1,90,9999\n",
    "2,90,99999\n",
    "3,90,99999\n",
    "4,90,9999999\n",
    "1,91,8889999\n",
    "2,91,88899999\n",
    "3,91,88899999\n",
    "4,91,44449999999\n",
    "\n",
    "Questions:\n",
    " 1. What kind of data structure do you use to represent the source?\n",
    " 2. City with Lowest Population\n",
    " 3. Number of counties in each city"
   ]
  },
  {
   "cell_type": "code",
   "execution_count": null,
   "id": "2afb45e4",
   "metadata": {},
   "outputs": [],
   "source": [
    "df.groupby('City_ID').sum().iloc[df['Population'].argmin()]['City_ID']"
   ]
  },
  {
   "cell_type": "code",
   "execution_count": null,
   "id": "ee130b20",
   "metadata": {},
   "outputs": [],
   "source": [
    "90 "
   ]
  },
  {
   "cell_type": "code",
   "execution_count": 3,
   "id": "698949ca",
   "metadata": {},
   "outputs": [],
   "source": [
    "import pandas as pd\n",
    "df = pd.read_clipboard(sep=',')"
   ]
  },
  {
   "cell_type": "code",
   "execution_count": 8,
   "id": "9eaafc1a",
   "metadata": {},
   "outputs": [
    {
     "data": {
      "text/plain": [
       "Index(['County_ID', ' City_ID', ' Population'], dtype='object')"
      ]
     },
     "execution_count": 8,
     "metadata": {},
     "output_type": "execute_result"
    }
   ],
   "source": [
    "df.columns"
   ]
  },
  {
   "cell_type": "code",
   "execution_count": 15,
   "id": "d01b136b",
   "metadata": {},
   "outputs": [
    {
     "data": {
      "text/plain": [
       "90"
      ]
     },
     "execution_count": 15,
     "metadata": {},
     "output_type": "execute_result"
    }
   ],
   "source": [
    "df.groupby(' City_ID').sum().reset_index().iloc[df[' Population'].argmin()][' City_ID']\n",
    "#.iloc[df['Population'].argmin()]['City_ID']"
   ]
  },
  {
   "cell_type": "code",
   "execution_count": null,
   "id": "0fb8d8bb",
   "metadata": {},
   "outputs": [],
   "source": [
    "df.groupby(' City_ID').sum()['']"
   ]
  },
  {
   "cell_type": "code",
   "execution_count": 1,
   "id": "2b5afeea",
   "metadata": {},
   "outputs": [
    {
     "ename": "SyntaxError",
     "evalue": "invalid syntax (2838890730.py, line 1)",
     "output_type": "error",
     "traceback": [
      "\u001b[0;36m  Cell \u001b[0;32mIn[1], line 1\u001b[0;36m\u001b[0m\n\u001b[0;31m    SQL:\u001b[0m\n\u001b[0m        ^\u001b[0m\n\u001b[0;31mSyntaxError\u001b[0m\u001b[0;31m:\u001b[0m invalid syntax\n"
     ]
    }
   ],
   "source": [
    "SQL:\n",
    "create table employee(id int, name varchar(50), department varchar(50), manager int, doj date);\n",
    "  insert into employee values(1,'John','IT',9,'2010-05-08');\n",
    "  insert into employee values(2,'Alex','Corp',0,'2008-06-03');\n",
    "  insert into employee values(3,'Linda','IT',9,'2010-07-02');\n",
    "  insert into employee values(4,'Rahul','Purchase',8,'2010-08-12');\n",
    "  insert into employee values(5,'Ismail','Purchase',8,'2012-09-08');\n",
    "  insert into employee values(6,'Zheng','Sales',7,'2010-10-05');\n",
    "  insert into employee values(7,'Reiki','Sales',2,'2009-11-02');\n",
    "  insert into employee values(8,'Aris','Sales',2,'2011-12-08');\n",
    "  insert into employee values(9,'Jena','IT',2,'2008-01-01');\n",
    "  insert into employee values(10,'Bonny','IT',9,'2008-01-01');\n",
    "\n",
    "Questions: Please provide an explanation of your approach. \n",
    " 1. What is the month with most hiring?\n",
    "select \n",
    "(select month(doj), count(*)\n",
    "from employee\n",
    "groupby mont(doj)\n",
    "order by count(*) desc\n",
    "limit 1;\n",
    "\n",
    " 2. List managers who joined after the reportees?\n",
    " \n",
    " select a.employee as employee, a.doj as employee_join, b.employee as manager, b.doj as manager_join\n",
    " from employee a \n",
    " join employee b\n",
    " on a.manager = b.id\n",
    " where employee_join < manager_join\n",
    " \n",
    "Department with most managers and how many?"
   ]
  },
  {
   "cell_type": "code",
   "execution_count": 2,
   "id": "c20c5db3",
   "metadata": {},
   "outputs": [],
   "source": [
    "dict = {1:2,3:5,5:8}"
   ]
  },
  {
   "cell_type": "code",
   "execution_count": 5,
   "id": "2ebf96c4",
   "metadata": {},
   "outputs": [],
   "source": [
    "dict.get(7)"
   ]
  },
  {
   "cell_type": "code",
   "execution_count": 17,
   "id": "b1f7579b",
   "metadata": {},
   "outputs": [
    {
     "data": {
      "text/plain": [
       "{1: 3, 5: 6, 8: 9}"
      ]
     },
     "execution_count": 17,
     "metadata": {},
     "output_type": "execute_result"
    }
   ],
   "source": [
    "a = [[1,20],[5,6],[8,9],[1,3],[1,5],[1,3]]\n",
    "{k:v for k,v in a}"
   ]
  },
  {
   "cell_type": "code",
   "execution_count": 18,
   "id": "4b822b05",
   "metadata": {},
   "outputs": [
    {
     "data": {
      "text/plain": [
       "[[1, 3], [1, 3], [1, 5], [1, 20], [5, 6], [8, 9]]"
      ]
     },
     "execution_count": 18,
     "metadata": {},
     "output_type": "execute_result"
    }
   ],
   "source": [
    "sorted(a)"
   ]
  },
  {
   "cell_type": "code",
   "execution_count": 20,
   "id": "af82cd33",
   "metadata": {},
   "outputs": [],
   "source": [
    "from collections import deque\n",
    "dq = deque([0,1,2,3,4,5,6])"
   ]
  },
  {
   "cell_type": "code",
   "execution_count": 21,
   "id": "0a379061",
   "metadata": {},
   "outputs": [
    {
     "data": {
      "text/plain": [
       "0"
      ]
     },
     "execution_count": 21,
     "metadata": {},
     "output_type": "execute_result"
    }
   ],
   "source": [
    "dq.popleft()"
   ]
  },
  {
   "cell_type": "code",
   "execution_count": 22,
   "id": "88f0b00a",
   "metadata": {},
   "outputs": [
    {
     "data": {
      "text/plain": [
       "deque([1, 2, 3, 4, 5, 6])"
      ]
     },
     "execution_count": 22,
     "metadata": {},
     "output_type": "execute_result"
    }
   ],
   "source": [
    "dq"
   ]
  },
  {
   "cell_type": "code",
   "execution_count": 23,
   "id": "cf2c0c40",
   "metadata": {},
   "outputs": [],
   "source": [
    "dq.appendleft(0)"
   ]
  },
  {
   "cell_type": "code",
   "execution_count": 24,
   "id": "c1596df2",
   "metadata": {},
   "outputs": [
    {
     "data": {
      "text/plain": [
       "deque([0, 1, 2, 3, 4, 5, 6])"
      ]
     },
     "execution_count": 24,
     "metadata": {},
     "output_type": "execute_result"
    }
   ],
   "source": [
    "dq"
   ]
  },
  {
   "cell_type": "code",
   "execution_count": 25,
   "id": "5e3a101b",
   "metadata": {},
   "outputs": [],
   "source": [
    "dq.extendleft([0,0,0])"
   ]
  },
  {
   "cell_type": "code",
   "execution_count": 27,
   "id": "7ec680fe",
   "metadata": {},
   "outputs": [
    {
     "data": {
      "text/plain": [
       "deque([0, 0, 0, 0, 1, 2, 3, 4, 5, 6])"
      ]
     },
     "execution_count": 27,
     "metadata": {},
     "output_type": "execute_result"
    }
   ],
   "source": [
    "dq"
   ]
  },
  {
   "cell_type": "code",
   "execution_count": 29,
   "id": "3c8b9144",
   "metadata": {},
   "outputs": [],
   "source": [
    "from collections import OrderedDict"
   ]
  },
  {
   "cell_type": "code",
   "execution_count": 30,
   "id": "99d5b1b5",
   "metadata": {},
   "outputs": [],
   "source": [
    "dc = OrderedDict()"
   ]
  },
  {
   "cell_type": "code",
   "execution_count": 35,
   "id": "07ee72a6",
   "metadata": {},
   "outputs": [],
   "source": [
    "dc['4'] = 10"
   ]
  },
  {
   "cell_type": "code",
   "execution_count": 36,
   "id": "22316fd1",
   "metadata": {},
   "outputs": [
    {
     "data": {
      "text/plain": [
       "OrderedDict([(1, 10), ('1', 10), ('2', 10), ('3', 10), ('4', 10)])"
      ]
     },
     "execution_count": 36,
     "metadata": {},
     "output_type": "execute_result"
    }
   ],
   "source": [
    "dc"
   ]
  },
  {
   "cell_type": "code",
   "execution_count": 39,
   "id": "32088523",
   "metadata": {},
   "outputs": [
    {
     "data": {
      "text/plain": [
       "'aet'"
      ]
     },
     "execution_count": 39,
     "metadata": {},
     "output_type": "execute_result"
    }
   ],
   "source": [
    "a = 'eat'\n",
    "''.join(sorted(a))"
   ]
  },
  {
   "cell_type": "code",
   "execution_count": 42,
   "id": "8f0bf525",
   "metadata": {},
   "outputs": [
    {
     "data": {
      "text/plain": [
       "'0001'"
      ]
     },
     "execution_count": 42,
     "metadata": {},
     "output_type": "execute_result"
    }
   ],
   "source": [
    "def reverseit(string):\n",
    "    stack = []\n",
    "    out = ''\n",
    "    for char in string:\n",
    "        stack.append(char)\n",
    "    for i in range(len(stack)):\n",
    "        out += stack.pop()\n",
    "    return out\n",
    "\n",
    "reverseit('1000')"
   ]
  },
  {
   "cell_type": "code",
   "execution_count": 45,
   "id": "8fd84ec7",
   "metadata": {},
   "outputs": [
    {
     "data": {
      "text/plain": [
       "'dddcba'"
      ]
     },
     "execution_count": 45,
     "metadata": {},
     "output_type": "execute_result"
    }
   ],
   "source": [
    "def reverseit(string):\n",
    "    if len(string) == 1:\n",
    "        return string\n",
    "    return reverseit(string[1:]) + string[0] \n",
    "reverseit('abcddd')"
   ]
  },
  {
   "cell_type": "code",
   "execution_count": 50,
   "id": "aefc8b43",
   "metadata": {},
   "outputs": [
    {
     "data": {
      "text/plain": [
       "{1: 2, 3: 4, 5: 6}"
      ]
     },
     "execution_count": 50,
     "metadata": {},
     "output_type": "execute_result"
    }
   ],
   "source": [
    "a = [[1,2],[3,4],[5,6]]\n",
    "{a:b for a,b in a}"
   ]
  },
  {
   "cell_type": "code",
   "execution_count": null,
   "id": "61c0c0c8",
   "metadata": {},
   "outputs": [],
   "source": []
  }
 ],
 "metadata": {
  "kernelspec": {
   "display_name": "Python 3.10 (tensorflow)",
   "language": "python",
   "name": "tensorflow"
  },
  "language_info": {
   "codemirror_mode": {
    "name": "ipython",
    "version": 3
   },
   "file_extension": ".py",
   "mimetype": "text/x-python",
   "name": "python",
   "nbconvert_exporter": "python",
   "pygments_lexer": "ipython3",
   "version": "3.10.9"
  }
 },
 "nbformat": 4,
 "nbformat_minor": 5
}
